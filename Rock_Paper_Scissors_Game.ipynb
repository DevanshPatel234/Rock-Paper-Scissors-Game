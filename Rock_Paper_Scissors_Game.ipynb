{
  "nbformat": 4,
  "nbformat_minor": 0,
  "metadata": {
    "colab": {
      "provenance": [],
      "authorship_tag": "ABX9TyPmBNLyDKWQeWXt63+YUTRG",
      "include_colab_link": true
    },
    "kernelspec": {
      "name": "python3",
      "display_name": "Python 3"
    },
    "language_info": {
      "name": "python"
    }
  },
  "cells": [
    {
      "cell_type": "markdown",
      "metadata": {
        "id": "view-in-github",
        "colab_type": "text"
      },
      "source": [
        "<a href=\"https://colab.research.google.com/github/DevanshPatel234/Rock-Paper-Scissors-Game/blob/main/Rock_Paper_Scissors_Game.ipynb\" target=\"_parent\"><img src=\"https://colab.research.google.com/assets/colab-badge.svg\" alt=\"Open In Colab\"/></a>"
      ]
    },
    {
      "cell_type": "code",
      "execution_count": 1,
      "metadata": {
        "colab": {
          "base_uri": "https://localhost:8080/"
        },
        "id": "ptbIhdYLDUzf",
        "outputId": "781fd96d-2570-4203-c48c-3c8cddfb2610"
      },
      "outputs": [
        {
          "output_type": "stream",
          "name": "stdout",
          "text": [
            "Welcome to Rock-Paper-Scissors Game!\n",
            "\n",
            "Choose one: Rock, Paper, or Scissors\n",
            "Your choice: Rock\n",
            "\n",
            "You chose: rock\n",
            "Computer chose: scissors\n",
            "You win!\n",
            "\n",
            "Do you want to play again? (yes/no): yes\n",
            "\n",
            "Choose one: Rock, Paper, or Scissors\n",
            "Your choice: Paper\n",
            "\n",
            "You chose: paper\n",
            "Computer chose: paper\n",
            "It's a tie!\n",
            "\n",
            "Do you want to play again? (yes/no): no\n",
            "Thanks for playing!\n"
          ]
        }
      ],
      "source": [
        "import random\n",
        "\n",
        "def get_user_choice():\n",
        "    print(\"\\nChoose one: Rock, Paper, or Scissors\")\n",
        "    choice = input(\"Your choice: \").strip().lower()\n",
        "    if choice in ['rock', 'paper', 'scissors']:\n",
        "        return choice\n",
        "    else:\n",
        "        print(\"Invalid choice. Please choose Rock, Paper, or Scissors.\")\n",
        "        return get_user_choice()\n",
        "\n",
        "def get_computer_choice():\n",
        "    return random.choice(['rock', 'paper', 'scissors'])\n",
        "\n",
        "def determine_winner(user, computer):\n",
        "    print(f\"\\nYou chose: {user}\")\n",
        "    print(f\"Computer chose: {computer}\")\n",
        "\n",
        "    if user == computer:\n",
        "        return \"It's a tie!\"\n",
        "    elif (user == 'rock' and computer == 'scissors') or \\\n",
        "         (user == 'scissors' and computer == 'paper') or \\\n",
        "         (user == 'paper' and computer == 'rock'):\n",
        "        return \"You win!\"\n",
        "    else:\n",
        "        return \"Computer wins!\"\n",
        "\n",
        "def play_game():\n",
        "    print(\"Welcome to Rock-Paper-Scissors Game!\")\n",
        "\n",
        "    while True:\n",
        "        user_choice = get_user_choice()\n",
        "        computer_choice = get_computer_choice()\n",
        "        result = determine_winner(user_choice, computer_choice)\n",
        "        print(result)\n",
        "\n",
        "        play_again = input(\"\\nDo you want to play again? (yes/no): \").strip().lower()\n",
        "        if play_again != 'yes':\n",
        "            print(\"Thanks for playing!\")\n",
        "            break\n",
        "\n",
        "# Run the game\n",
        "play_game()\n"
      ]
    }
  ]
}